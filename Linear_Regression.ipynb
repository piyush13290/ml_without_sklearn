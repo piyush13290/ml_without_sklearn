{
 "cells": [
  {
   "cell_type": "markdown",
   "metadata": {},
   "source": [
    "# Linear Regression "
   ]
  },
  {
   "cell_type": "markdown",
   "metadata": {},
   "source": [
    "## Step 1: Decide a Loss funcion\n",
    "\n",
    "    - Let's choose squared loss (standard for Linear Regression)\n",
    "\n",
    "$$l(y,\\hat{y}) = (\\hat{y}-y)^2$$ \n",
    "\n",
    "    - It is symmetric : would punish under/over prediction equally\n",
    "    - Its squared: would punish the larger mistakes more than the smaller ones \n",
    "    - With all the caveat, let' go ahead with the above loss function\n",
    "    "
   ]
  },
  {
   "cell_type": "markdown",
   "metadata": {},
   "source": [
    "## Step 2: Find the parameters \n",
    "\n",
    "- Find parameters $w$ such that: \n",
    "$$w^{*} = {argmin}_{w}\\sum_{i=1}^{N} (y_i - \\hat{y})^2$$ \n",
    "\n",
    "- And we have a closed form solution for this: \n",
    "\n",
    "$$w^* =(X^{T}X)^{-1}X^{T}y $$\n"
   ]
  },
  {
   "cell_type": "code",
   "execution_count": 29,
   "metadata": {},
   "outputs": [
    {
     "name": "stdout",
     "output_type": "stream",
     "text": [
      "(304, 2)\n",
      "(101, 2)\n"
     ]
    }
   ],
   "source": [
    "## Let me try this out \n",
    "\n",
    "## Set up necessary packages\n",
    "\n",
    "%matplotlib inline\n",
    "import numpy as np\n",
    "import matplotlib\n",
    "import matplotlib.pyplot as plt\n",
    "import seaborn as sns\n",
    "\n",
    "# load some data\n",
    "# Dataset: Housing price data (very uninteresting, but its fine), against proximity to CBD \n",
    "\n",
    "train_data = np.loadtxt('datasets/housing-train.txt')\n",
    "val_data = np.loadtxt('datasets/housing-val.txt')\n",
    "\n",
    "print(train_data.shape)\n",
    "print(val_data.shape)\n",
    "\n",
    "# we dont have much data, but its fine to see the workings"
   ]
  },
  {
   "cell_type": "code",
   "execution_count": 23,
   "metadata": {},
   "outputs": [],
   "source": [
    "# settin up np arrays to work \n",
    "# np.newaxis because we need an array in 2 dimension like N*1 than 1 dimensiton like (N,)\n",
    "X_train = train_data[:,np.newaxis,0]\n",
    "y_train = train_data[:,np.newaxis,1]\n",
    "X_val = val_data[:,np.newaxis,0]\n",
    "y_val = val_data[:,np.newaxis,1]"
   ]
  },
  {
   "cell_type": "markdown",
   "metadata": {},
   "source": [
    "## Step 3: Explore the data \n",
    "\n",
    "- Future Note: Make this as a first step itself, define loss function and model class based on this!"
   ]
  },
  {
   "cell_type": "code",
   "execution_count": 34,
   "metadata": {},
   "outputs": [
    {
     "data": {
      "text/plain": [
       "[<matplotlib.lines.Line2D at 0x7fa0de62e790>]"
      ]
     },
     "execution_count": 34,
     "metadata": {},
     "output_type": "execute_result"
    },
    {
     "data": {
      "image/png": "[encoded data removed]",
      "text/plain": [
       "<Figure size 720x432 with 1 Axes>"
      ]
     },
     "metadata": {
      "needs_background": "light"
     },
     "output_type": "display_data"
    }
   ],
   "source": [
    "plt.figure(figsize=(10,6))\n",
    "plt.plot(X_train, y_train, \".k\") \n",
    "plt.plot(X_val, y_val, \".b\")"
   ]
  },
  {
   "cell_type": "markdown",
   "metadata": {},
   "source": [
    "- okay, seems like mostly linear relationship, with edges getting a bit not linear,"
   ]
  },
  {
   "cell_type": "markdown",
   "metadata": {},
   "source": [
    "## Step 4 : find W* and define loss functions"
   ]
  },
  {
   "cell_type": "code",
   "execution_count": 59,
   "metadata": {},
   "outputs": [],
   "source": [
    "# let's define some functions\n",
    "\n",
    "## to get w*\n",
    "\n",
    "def find_least_squared_w(X,y):\n",
    "    '''\n",
    "    find w* using closed form solution.\n",
    "    \n",
    "    Input:\n",
    "        X = 2D array, N*(D+1) data matrix\n",
    "        y = 1D array, N lenghth vector of y values\n",
    "    Output:\n",
    "        w = 1D array, (D+1) lengthe vector \n",
    "    '''\n",
    "    \n",
    "    w = np.dot(np.linalg.pinv(X),y)\n",
    "    \n",
    "    return w\n",
    "\n",
    "def find_avg_squared_loss(X,y,w):\n",
    "    '''\n",
    "    Finds the avg squared loss for the given dataset \n",
    "    Input:\n",
    "         X = 2D array, N*(D+1) data matrix\n",
    "         y = 1D array, N lenghth vector of y values\n",
    "    Output:\n",
    "        val = scaler with range(0,inf)\n",
    "    \n",
    "    '''\n",
    "    y_hat = np.dot(X,w)\n",
    "    error = y - y_hat\n",
    "    \n",
    "    squared_loss = (np.dot(np.transpose(error),error)) / X.shape[0] \n",
    "    return squared_loss\n",
    "    \n",
    "# let's prepare the X dataset \n",
    "def prepare_X(X, degree = 1):\n",
    "    '''\n",
    "    this functions prepared X dataset, by adding a column of ones and other degrees \n",
    "    '''\n",
    "    \n",
    "    X_new = X.copy()\n",
    "    \n",
    "    if degree > 1:\n",
    "        \n",
    "        for d in range(1, degree+1):\n",
    "            X_new = np.hstack((X_new, X**d))\n",
    "         \n",
    "    X_new = np.hstack((np.ones([X_new.shape[0],1]),X_new))\n",
    "    \n",
    "    return X_new"
   ]
  },
  {
   "cell_type": "code",
   "execution_count": 63,
   "metadata": {},
   "outputs": [
    {
     "data": {
      "text/plain": [
       "array([[28.09284532]])"
      ]
     },
     "execution_count": 63,
     "metadata": {},
     "output_type": "execute_result"
    }
   ],
   "source": [
    "X_train_prepared_4 = prepare_X(X_train, degree=4)\n",
    "w_4 = find_least_squared_w(X_train_prepared_4, y_train)\n",
    "loss_4 = find_avg_squared_loss(X_train_prepared_4, y_train, w_4) \n",
    "loss_4"
   ]
  },
  {
   "cell_type": "markdown",
   "metadata": {},
   "source": [
    "#### So all the functions seem to be working"
   ]
  },
  {
   "cell_type": "code",
   "execution_count": 67,
   "metadata": {},
   "outputs": [],
   "source": [
    "# let's evaluate this with a few degrees\n",
    "\n",
    "val_loss_bookkeeping = {}\n",
    "\n",
    "for i in range(1,10):\n",
    "    my_x = prepare_X(X_train, degree=i)\n",
    "    my_w = find_least_squared_w(my_x, y_train)\n",
    "    train_loss = find_avg_squared_loss(my_x, y_train, my_w)\n",
    "    \n",
    "    my_x_val = prepare_X(X_val, degree=i)\n",
    "    val_loss = find_avg_squared_loss(my_x_val, y_val, my_w)\n",
    "    \n",
    "    val_loss_bookkeeping[i] = val_loss\n",
    "    \n",
    "    "
   ]
  },
  {
   "cell_type": "code",
   "execution_count": 68,
   "metadata": {},
   "outputs": [
    {
     "data": {
      "text/plain": [
       "{1: array([[40.23491995]]),\n",
       " 2: array([[31.72787159]]),\n",
       " 3: array([[31.24633017]]),\n",
       " 4: array([[32.31931854]]),\n",
       " 5: array([[31.27491765]]),\n",
       " 6: array([[31.02879223]]),\n",
       " 7: array([[31.10300865]]),\n",
       " 8: array([[31.9585717]]),\n",
       " 9: array([[31.62424788]])}"
      ]
     },
     "execution_count": 68,
     "metadata": {},
     "output_type": "execute_result"
    }
   ],
   "source": [
    "val_loss_bookkeeping"
   ]
  },
  {
   "cell_type": "markdown",
   "metadata": {},
   "source": [
    "### Best model would be one with 6 degrees"
   ]
  }
 ],
 "metadata": {
  "kernelspec": {
   "display_name": "Python 3",
   "language": "python",
   "name": "python3"
  },
  "language_info": {
   "codemirror_mode": {
    "name": "ipython",
    "version": 3
   },
   "file_extension": ".py",
   "mimetype": "text/x-python",
   "name": "python",
   "nbconvert_exporter": "python",
   "pygments_lexer": "ipython3",
   "version": "3.8.5"
  }
 },
 "nbformat": 4,
 "nbformat_minor": 4
}
